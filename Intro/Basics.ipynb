{
 "metadata": {
  "language_info": {
   "codemirror_mode": {
    "name": "ipython",
    "version": 3
   },
   "file_extension": ".py",
   "mimetype": "text/x-python",
   "name": "python",
   "nbconvert_exporter": "python",
   "pygments_lexer": "ipython3",
   "version": "3.8.5-final"
  },
  "orig_nbformat": 2,
  "kernelspec": {
   "name": "python38564bit30a800a7aba64ecbafa1ad39a471372d",
   "display_name": "Python 3.8.5 64-bit"
  }
 },
 "nbformat": 4,
 "nbformat_minor": 2,
 "cells": [
  {
   "cell_type": "markdown",
   "metadata": {},
   "source": [
    "<style>\n",
    "    .body {\n",
    "        font-weight: 200;\n",
    "        font-size: 14px;\n",
    "        padding-left: 30px;\n",
    "    }\n",
    "    .note {\n",
    "        color: #337AFF;\n",
    "        font-size: 12px;\n",
    "        font-style: italic;\n",
    "        padding-left: 20px;\n",
    "    }\n",
    "</style>\n",
    "\n",
    "# Calculations in Python\n",
    "<p class=\"body\">To exponentiate use '**'<br>\n",
    "    <span class=\"note\">NOTE: must explicitly use <strong>print()</strong> to return values in Python (unlike in R)</span>\n",
    "</p>"
   ]
  },
  {
   "cell_type": "code",
   "execution_count": 1,
   "metadata": {},
   "outputs": [
    {
     "output_type": "execute_result",
     "data": {
      "text/plain": "16"
     },
     "metadata": {},
     "execution_count": 1
    }
   ],
   "source": [
    "print(4**2)    #<= 16"
   ]
  },
  {
   "cell_type": "markdown",
   "metadata": {},
   "source": [
    "---\n",
    "# Variables\n",
    "<p class=\"body\">Use '=' to assign variables</p>"
   ]
  },
  {
   "cell_type": "code",
   "execution_count": 2,
   "metadata": {
    "tags": []
   },
   "outputs": [
    {
     "output_type": "stream",
     "name": "stdout",
     "text": "30\n"
    }
   ],
   "source": [
    "my_var = 29\n",
    "print(my_var + 1)"
   ]
  },
  {
   "cell_type": "markdown",
   "metadata": {},
   "source": [
    "---\n",
    "# Variable Types\n",
    "<ul class=\"body\">\n",
    "    <li><em>int</em> (integer)</li>\n",
    "    <li><em>float</em> (decimal)</li>\n",
    "    <li><em>str</em> (string)</li>\n",
    "    <li><em>bool</em> (boolean)<br>\n",
    "        <span class=\"note\" style=\"padding-left: 10px;\">NOTE: in Python 'True' and 'False' must always be written capitalized</span>\n",
    "    </li>\n",
    "</ul>\n",
    "\n",
    "<p class=\"body\" style=\"padding-left: 25px;\">Check type using <strong>type(x)</strong> where x is a python object</p>"
   ]
  },
  {
   "cell_type": "code",
   "execution_count": 3,
   "metadata": {
    "tags": []
   },
   "outputs": [
    {
     "output_type": "stream",
     "name": "stdout",
     "text": "<class 'int'>\n"
    }
   ],
   "source": [
    "# my_var = 29\n",
    "print(type(my_var))"
   ]
  },
  {
   "cell_type": "markdown",
   "metadata": {},
   "source": [
    "---\n",
    "# Operations on strings\n",
    "<p class=\"body\">'+' and '*' operations can be performed on strings</p>\n",
    "<p class=\"body\">strings can be pasted together using '+'\n",
    "    <br><span class=\"note\">NOTE: when pasting variables of numeric type into string must use <strong>str()</strong> to convert numbers to strings; <strong>float()</strong>, <strong>int()</strong>, <strong>bool()</strong> used similarily</span>\n",
    "</p>"
   ]
  },
  {
   "cell_type": "code",
   "execution_count": 6,
   "metadata": {
    "tags": []
   },
   "outputs": [
    {
     "output_type": "stream",
     "name": "stdout",
     "text": "Ha\nHaHaHa\nHello there, my name is Joan and I am 29.\n"
    }
   ],
   "source": [
    "# Adding and multiplying strings\n",
    "print(\"H\" + \"a\")\n",
    "print(\"Ha\" * 3)\n",
    "\n",
    "# Pasting strings\n",
    "name = \"Joan\"\n",
    "print(\"Hello there, my name is \" + name + \" and I am \" + str(my_var) + \".\")\n",
    "\n",
    "# Notice you must explicitly put in spaces"
   ]
  }
 ]
}