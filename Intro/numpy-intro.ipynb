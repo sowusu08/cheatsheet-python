{
 "metadata": {
  "language_info": {
   "codemirror_mode": {
    "name": "ipython",
    "version": 3
   },
   "file_extension": ".py",
   "mimetype": "text/x-python",
   "name": "python",
   "nbconvert_exporter": "python",
   "pygments_lexer": "ipython3",
   "version": "3.8.5-final"
  },
  "orig_nbformat": 2,
  "kernelspec": {
   "name": "python38564bit0dd0812287834f7c97bbeb8b0706a789",
   "display_name": "Python 3.8.5 64-bit"
  }
 },
 "nbformat": 4,
 "nbformat_minor": 2,
 "cells": [
  {
   "cell_type": "code",
   "execution_count": 2,
   "metadata": {},
   "outputs": [],
   "source": [
    "# Load NumPy\n",
    "import numpy as np\n",
    "\n",
    "# To bypass 'module not found' error make sure using Python 3.8.5 64-bit /Library/Frameworks/Python.framework/... environ (same location as numpy installation)"
   ]
  },
  {
   "cell_type": "markdown",
   "metadata": {},
   "source": [
    "<style>\n",
    "    .body {\n",
    "        font-weight: 200;\n",
    "        font-size: 14px;\n",
    "        padding-left: 30px;\n",
    "    }\n",
    "    .note {\n",
    "        font-size: 12px;\n",
    "        color: red;\n",
    "    }\n",
    "</style>\n",
    "\n",
    "# The 1D NumPy Array\n",
    "In python we can't do calculations entire list efficiently\n",
    "+ instead we use the numpy array  \n",
    "+ We can perform <strong>element-wise calculations</strong> on arrays (<em>i.e. adding lists, multiplying list by constant, adding constant to list</em>)\n",
    "<br/>\n",
    "\n",
    "To create an array use <strong>np.array(x)</strong>\n",
    "+ 'x' is a python list  \n",
    "<br/>\n",
    "\n",
    "Caveat -- <em>type coercion</em>\n",
    "+ NumPy arrays can only contain one type\n",
    "><em>When multiple types passed into the same array, numpy automatically adjusts the values so they are all of the same type</em>"
   ]
  },
  {
   "cell_type": "code",
   "execution_count": 5,
   "metadata": {
    "tags": []
   },
   "outputs": [
    {
     "output_type": "stream",
     "name": "stdout",
     "text": "[1 2 3]\n[1 2 3]\n"
    }
   ],
   "source": [
    "# Creating arrays\n",
    "list = [1, 2, 3]\n",
    "print( np.array(list) )\n",
    "\n",
    "# OR\n",
    "\n",
    "print( np.array([1, 2, 3]) )"
   ]
  },
  {
   "cell_type": "code",
   "execution_count": 9,
   "metadata": {
    "tags": []
   },
   "outputs": [
    {
     "output_type": "stream",
     "name": "stdout",
     "text": "[1 1 3]\n['1.8' '1' '3']\n[1.31 2.8  3.  ]\n"
    }
   ],
   "source": [
    "# Examples of type coercion\n",
    "np_nums1 = np.array([1, True, 3])\n",
    "print(np_nums1)                      # <= all converted to ints\n",
    "\n",
    "np_nums2 = np.array([1.8, '1', 3])\n",
    "print(np_nums2)                     # <= all converted to strings\n",
    "\n",
    "np_nums3 = np.array([1.31, 2.8, 3])\n",
    "print(np_nums3)                     # <= all converted to floats"
   ]
  },
  {
   "cell_type": "markdown",
   "metadata": {},
   "source": [
    "## Subsetting 1D Arrays\n",
    "<p style=\"font-size: 14px; weight: 400;\">We can subset 1d arrays like we subset lists: <strong>x[y]</strong></p>\n",
    "- 'x' is the array name, 'y' is the index\n",
    "\n",
    "<br/>\n",
    "<p style=\"color:red;\">NOTE: To return an array of boolean values (True or False), <span style=\"border-bottom: 1px solid red;\">call np.array() on relational operator</span> involving pre-made array(<em>i.e. >, <, !=, etc.</em>)</p>\n",
    "- when selecting items that meet criteria of relational operator 'y' is the relational operator\n"
   ]
  },
  {
   "cell_type": "code",
   "execution_count": 23,
   "metadata": {
    "tags": []
   },
   "outputs": [
    {
     "output_type": "stream",
     "name": "stdout",
     "text": "[False  True  True False  True False]\n[130 110 110]\n"
    }
   ],
   "source": [
    "weights = np.array([160, 130, 110, 230, 110, 210])\n",
    "\n",
    "# Return array of boolean values\n",
    "light = weights < 150             # <= calls np.array() on relational operator involving pre-made ARRAY\n",
    "print(light)\n",
    "\n",
    "# SUBSET array based on relational operator\n",
    "np_weights_light = weights[light]\n",
    "            #or\n",
    "np_weights_light = weights[weights < 150]\n",
    "\n",
    "\n",
    "print(np_weights_light)"
   ]
  },
  {
   "cell_type": "markdown",
   "metadata": {},
   "source": [
    "---\n",
    "# 2D NumPy Arrays\n",
    "\n",
    "<p>Created from list of lists, <span style=\"color:red;\"><em>aka each sublist corresponds to a row of 2D NumPy array</em></span></p>\n",
    "- to create 2D array use <strong>np.array(x)</strong> where 'x' is a list of lists\n",
    "<br/><br/>\n",
    "\n",
    "<p>Printing shape attribute clarifies number of rows and cols in 2D array</p>\n",
    "- <strong>array.shape</strong> where 'array' is the name of the array in question\n",
    "<br/><br/>\n",
    "\n",
    "<p style=\"color: red; font-style: italic;\">NOTE: number of rows/cols DOES NOT determine dimensions</p>"
   ]
  },
  {
   "cell_type": "code",
   "execution_count": 30,
   "metadata": {
    "tags": []
   },
   "outputs": [
    {
     "output_type": "stream",
     "name": "stdout",
     "text": "[[20 40]\n [25 45]\n [30 50]\n [35 55]]\n(4, 2)\n"
    }
   ],
   "source": [
    "rectangles = [[20, 40], [25, 45], [30, 50], [35, 55]]\n",
    "np_rectangles = np.array(rectangles)\n",
    "            #or\n",
    "np_rectangles = np.array([[20, 40],\n",
    "                        [25, 45],\n",
    "                        [30, 50],\n",
    "                        [35, 55]])\n",
    "\n",
    "print(np_rectangles)\n",
    "\n",
    "# check dimensions with array.shape\n",
    "print(np_rectangles.shape)              # <= this 2D array is 4 x 2 (rows x cols)"
   ]
  },
  {
   "cell_type": "markdown",
   "metadata": {},
   "source": [
    "## Subsetting 2D Arrays\n",
    "<p style=\"color:red; font-style:italic;\">NOTE: in addition to subsetting like regular list of lists (with [..][..]), we can subset 2D arrays more intuitively</p>\n",
    "Use <strong>array[rows,cols]</strong><br/>\n",
    "- 'rows' is subsetting of rows<br/>\n",
    "- 'cols' is subsetting of columns"
   ]
  },
  {
   "cell_type": "code",
   "execution_count": 35,
   "metadata": {
    "tags": []
   },
   "outputs": [
    {
     "output_type": "stream",
     "name": "stdout",
     "text": "[[20 40]\n [25 45]\n [30 50]\n [35 55]]\n[40 45 50 55]\n30\n[[25 45]\n [30 50]]\n"
    }
   ],
   "source": [
    "print(np_rectangles)\n",
    "\n",
    "# select the entire second column\n",
    "width = (np_rectangles[:,1])           # <= we want every row so ':' before comma\n",
    "print(width) \n",
    "\n",
    "# select the length of the 3 rectangle\n",
    "rectangle3 = np_rectangles[2,0]         # <= we want row 3 col 1\n",
    "print(rectangle3)\n",
    "\n",
    "# select middle two rectangles\n",
    "mid_rectangles = np_rectangles[1:3,:] \n",
    "print(mid_rectangles)"
   ]
  },
  {
   "cell_type": "markdown",
   "metadata": {},
   "source": [
    "## 2D Array Arithmetic\n",
    "Arithmetic is ALWAYS performed element-wise   \n",
    "- even when multiplying (a) matrix x matrix, (b) matrix x vector  \n",
    "- aka matrix multiplaction is NOT occurring here\n",
    "<p style=\"color: red; font-style: italic;\">NOTE: the key is having the same number of columns</p>"
   ]
  },
  {
   "cell_type": "code",
   "execution_count": 11,
   "metadata": {
    "tags": []
   },
   "outputs": [
    {
     "output_type": "stream",
     "name": "stdout",
     "text": "[[ 2  4]\n [ 6  8]\n [10 12]]\n[[3 4]\n [5 6]\n [7 8]]\n[[ 1  4]\n [ 9 16]\n [25 36]]\n[[ 2  4]\n [ 6  8]\n [10 12]]\n"
    }
   ],
   "source": [
    "np_mat = np.array([[1, 2],\n",
    "                    [3, 4],\n",
    "                    [5, 6]])\n",
    "\n",
    "# Matrix-Vector arithmetic example\n",
    "print(np_mat * np.array([2, 2]))       # multiplication\n",
    "print(np_mat + np.array([2, 2]))       # addition\n",
    "\n",
    "# Matrix-Matrix arithmetic example\n",
    "print(np_mat * np_mat)                 # multiplication; notice this is NOT conventional matrix mult\n",
    "print(np_mat + np_mat)                 # addition\n",
    "\n",
    "# Multiplying or adding constant to matrix same as mult/adding constant to list"
   ]
  },
  {
   "cell_type": "markdown",
   "metadata": {},
   "source": [
    "---\n",
    "# NumPy Exploratory Data Analysis\n",
    "### Summary stats\n",
    "These can be used on lists or subsets of arrays for example\n",
    "<p>- <strong>np.mean()</strong> returns avg value</p>\n",
    "<p>- <strong>np.median()</strong> returns median value</p>\n",
    "<p>- <strong>np.std()</strong> returns standard deviation</p>\n",
    "<p>- <strong>np.corrcoef(a, b)</strong> returns correlation coefficient matrix of two variables 'a' and 'b'<p>"
   ]
  },
  {
   "cell_type": "code",
   "execution_count": 25,
   "metadata": {
    "tags": []
   },
   "outputs": [
    {
     "output_type": "stream",
     "name": "stdout",
     "text": "[[1 2]\n [3 4]\n [5 6]]\nOverall Mean: 3.5\nMean of col2: 4.0\nOverall Median: 3.5\nMedian of row2: 3.5\nOverall SD: 1.707825127659933\nSD of subset rows(1,2) cols(1,3): 1.118033988749895\nCorr Coef of columns: [[1. 1.]\n [1. 1.]]\nCorr Coef of rows 1 & 3: [[1. 1.]\n [1. 1.]]\n[[1 2]\n [3 4]]\n"
    }
   ],
   "source": [
    "print(np_mat)\n",
    "\n",
    "# Find avg\n",
    "print(\"Overall Mean: \" + str(np.mean(np_mat)))             # overall mean ex\n",
    "print(\"Mean of col2: \" + str(np.mean(np_mat[:,1])))       # mean of subsets ex\n",
    "\n",
    "# Find median\n",
    "print(\"Overall Median: \" + str(np.median(np_mat)))          # overall ex\n",
    "print(\"Median of row2: \" + str(np.median(np_mat[1,:])))     # subsetting ex\n",
    "\n",
    "# Find sd\n",
    "print(\"Overall SD: \" + str(np.std(np_mat)))                                 # overall ex\n",
    "print(\"SD of subset rows(1,2) cols(1,2): \" + str(np.std(np_mat[:2,:])))     # subsetting ex\n",
    "\n",
    "# Find correlation coefficient\n",
    "print(\"Corr Coef of columns: \" + str(np.corrcoef(np_mat[:,0], np_mat[:,1])))        # btw cols ex\n",
    "print(\"Corr Coef of rows 1 & 3: \" + str(np.corrcoef(np_mat[0,:], np_mat[2,:])))     # btw rows ex\n",
    "# We'd usually need more data for this to mean something..."
   ]
  },
  {
   "cell_type": "markdown",
   "metadata": {
    "tags": []
   },
   "source": [
    "### Other Basic Functions\n",
    "<p>- <strong>np.sum()</strong></p>\n",
    "<p>- <strong>np.sort()</strong></p>\n",
    "<p>- <strong>np.random.normal(loc=0, scale=1, size)</strong> where 'scale' is sd, 'loc' is mean</p>\n",
    "<p>- <strong>np.round(num, x)</strong> where 'num' is value to be rounded, 'x' is # decimal places to round to</p>"
   ]
  },
  {
   "cell_type": "code",
   "execution_count": 37,
   "metadata": {
    "tags": []
   },
   "outputs": [
    {
     "output_type": "stream",
     "name": "stdout",
     "text": "[[3 4]\n [1 5]\n [6 2]]\nOverall Sum: 21\nSum of subset rows(1,2) cols(1,2): 13\n[1 2 3 4 5 6]\n[[3 4]\n [1 5]\n [2 6]]\n[-1.645793   -1.39289176 -0.07561425  0.53490626  0.0332905  -0.79408644\n -0.0408594  -0.51897577  1.15211938 -0.73501304 -1.62296338  1.27995573\n -1.85402345 -0.92181102 -0.03915506  1.4623496  -1.39237995  2.41647966\n -1.25236105 -0.98582998 -2.00021386 -0.6931415   0.71937782  2.42026336\n -0.02565984 -0.23828758 -1.05596606 -1.22063382 -1.30108363  2.59875436\n  0.06611106 -2.4215275  -0.0797285   0.67962701  0.82871815  0.33706319\n -0.63116362  0.74596329 -0.26556064 -0.56049643  1.26654534  0.67734123\n -0.18861956  1.39581002 -1.61388105  1.08248156 -0.7747148  -0.53412125\n -1.45723274  0.55213858  1.83621474  0.31314673 -1.84288869 -0.28699926\n  0.05748707 -1.00219434 -2.00761632  2.00962656 -0.55510016  0.97524105\n  0.79145136 -1.27270182 -0.06605628 -0.66467801  1.49965743 -0.01411219\n  0.48495771  0.74249308  1.00609888  0.40788422  1.67256027  0.16467736\n -0.52156006 -0.83290859 -2.38167418  1.29932419  0.01227335  0.6182033\n -0.20743048  1.33362762 -1.06493485 -0.39070427  0.74271543  0.23883593\n  0.02931917 -0.16179974  1.42792468  0.47631915 -1.68106668  0.37682671\n -0.66621224  1.46711961 -0.18710733  0.12024626 -0.39041764 -1.16795743\n -0.87902018  0.97733193  0.31644502 -0.25196075]\n[-1.  -0.5  0.1  0.1  0.5  0.6 -0.1 -0.6 -1.3 -1.2 -0.5  0.1  2.1 -2.\n  0.1 -0.8 -1.2  1.  -0.1  0.7 -1.5 -1.8  0.5  1.1  2.2  0.3 -2.1  0.5\n  2.   0.2 -0.2 -0.   1.5  0.7 -0.9 -1.  -1.2 -0.3 -0.2  0.8 -0.5 -1.4\n -0.4 -0.3 -0.2  0.3  0.1 -2.  -0.3 -0.1  0.9 -0.1 -0.8 -0.1  0.4  0.1\n -0.9 -2.3 -1.   0.3  1.7  1.2  2.4  0.8 -0.6  1.5 -0.5 -1.4  3.4 -1.1\n -0.   1.3 -0.7  0.  -0.1 -0.  -0.3 -0.5 -1.7  0.1 -1.9  0.4  0.8 -0.7\n  0.1 -0.5  0.1  0.5  0.  -1.5 -1.   1.2  1.3  2.4  1.2  0.6  0.  -2.2\n -0.2  1.4]\n"
    }
   ],
   "source": [
    "np_mat2 = np.array([[3, 4],\n",
    "                    [1, 5],\n",
    "                    [6, 2]])\n",
    "print(np_mat2)\n",
    "\n",
    "# Find sum\n",
    "print(\"Overall Sum: \" + str(np.sum(np_mat2)))\n",
    "print(\"Sum of subset rows(1,2) cols(1,2): \" + str(np.sum(np_mat2[:2,:])))\n",
    "\n",
    "# Sort in numerical order\n",
    "print(np.sort(np_mat2, axis=None))      # sort flattened array in numerical order\n",
    "print(np.sort(np_mat2))                 # sort each row's contents in numerical order\n",
    "\n",
    "# Generate random normal data\n",
    "print(np.random.normal(size = 100))\n",
    "print(np.round(np.random.normal(size = 100), 1))    # <= round all vlaues to one decimal point\n"
   ]
  }
 ]
}