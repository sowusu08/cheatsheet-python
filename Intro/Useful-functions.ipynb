{
 "metadata": {
  "language_info": {
   "codemirror_mode": {
    "name": "ipython",
    "version": 3
   },
   "file_extension": ".py",
   "mimetype": "text/x-python",
   "name": "python",
   "nbconvert_exporter": "python",
   "pygments_lexer": "ipython3",
   "version": "3.8.5-final"
  },
  "orig_nbformat": 2,
  "kernelspec": {
   "name": "python38564bit30a800a7aba64ecbafa1ad39a471372d",
   "display_name": "Python 3.8.5 64-bit"
  }
 },
 "nbformat": 4,
 "nbformat_minor": 2,
 "cells": [
  {
   "cell_type": "markdown",
   "metadata": {},
   "source": [
    "<style>\n",
    "    .body {\n",
    "        font-weight: 200;\n",
    "        font-size: 14px;\n",
    "        padding-left: 30px;\n",
    "    }\n",
    "    .note {\n",
    "        color: #337AFF;\n",
    "        font-size: 12px;\n",
    "        font-style: italic;\n",
    "        padding-left: 20px;\n",
    "    }\n",
    "</style>\n",
    "\n",
    "# Built-in functions\n",
    "### - Find maximum of list\n",
    "<p class=\"body\">Use <strong>max(x)</strong> where x is list name</p><br/>\n",
    "\n",
    "### - Round number\n",
    "<p class=\"body\">Use <strong>round(num, a)</strong> where 'num' is the number to be rounded; 'a' is the extent of rounding</p><br/>\n",
    "\n",
    "### - Find length of object\n",
    "<p class=\"body\">Use <strong>len(x)</strong> where x is object of interest</p>"
   ]
  },
  {
   "cell_type": "code",
   "execution_count": 6,
   "metadata": {
    "tags": []
   },
   "outputs": [
    {
     "output_type": "stream",
     "name": "stdout",
     "text": "4\n8\n"
    }
   ],
   "source": [
    "list = [2, 4, 1, 3]\n",
    "name = \"samantha\"\n",
    "\n",
    "print(len(list))\n",
    "print(len(name))"
   ]
  },
  {
   "cell_type": "markdown",
   "metadata": {},
   "source": [
    "### d) Arrange from least to greatest\n",
    "<p class=\"body\">Use <strong>sorted(x, reverse = False)</strong> to arrange items in object 'x' from least to greatest<br>\n",
    "<span class=\"note\">NOTE: if list is mix of numerical and string items the numbers will appear first</span></p>"
   ]
  },
  {
   "cell_type": "code",
   "execution_count": 29,
   "metadata": {
    "tags": []
   },
   "outputs": [
    {
     "output_type": "stream",
     "name": "stdout",
     "text": "[2, 4, 1, 3]\n[1, 2, 3, 4]\n['joe', 'samantha', 'j.t.', '10', '20']\n['10', '20', 'j.t.', 'joe', 'samantha']\n"
    }
   ],
   "source": [
    "names = [\"joe\", \"samantha\", \"j.t.\", \"10\", \"20\"]\n",
    "\n",
    "print(list)\n",
    "print(sorted(list))     # <= arranged in numerical order\n",
    "\n",
    "print(names)\n",
    "print(sorted(names))    # <= arranged by number of characters (a-z)"
   ]
  },
  {
   "cell_type": "markdown",
   "metadata": {},
   "source": [
    "---\n",
    "# Methods\n",
    "<p class=\"body\">These are functions which are specific to certain python object types (i.e. list, int, bool, float)</p>\n",
    "\n",
    "<p class=\"body\">To call a method: <strong>x.method()</strong><br/>\n",
    "where 'x' is object method is being performed on</p><br/>\n",
    "\n",
    "### a) String Methods\n",
    "<ul class=\"body\">\n",
    "    <li>Use <strong>str.upper()</strong> to put string in all caps\n",
    "    <p class=\"note\">NOTE: upper() takes no arguments</p></li>\n",
    "    <li>Use <strong>str.capitalize()</strong> to capitalize the <em style=\"border-bottom:1px solid black;\">very first</em> letter of string</li>\n",
    "    <li>Use <strong>str.replace(\"x\", \"y\")</strong> to replace \"x\" portion of string with \"y\"\n",
    "    <p class=\"note\">NOTE: spaces can be included in \"x\" and \"y\"</p></li>\n",
    "    <li>Use <strong>str.split() to create list where each element is a word of the string</strong></li>\n",
    "</ul>\n"
   ]
  },
  {
   "cell_type": "code",
   "execution_count": 20,
   "metadata": {
    "tags": []
   },
   "outputs": [
    {
     "output_type": "stream",
     "name": "stdout",
     "text": "HI THERE, MY NAME IS SAMANTHA\n2\n4\nHi there, my name is samantha\nhi there, my name is bob\nhi there, my name istest\n"
    }
   ],
   "source": [
    "greeting = \"hi there, my name is samantha\"\n",
    "\n",
    "#---------------------------------- using str.upper()\n",
    "print(greeting.upper())\n",
    "\n",
    "#---------------------------------- using str.capitalize()\n",
    "print(greeting.capitalize()) \n",
    "\n",
    "#---------------------------------- using str.replace()\n",
    "print(greeting.replace(\"samantha\", \"bob\"))\n"
   ]
  },
  {
   "cell_type": "markdown",
   "metadata": {},
   "source": [
    "### b) List Methods\n",
    "<ul class=\"body\">\n",
    "    <li>Use <strong>list.append(x)</strong> to add a <span style=\"border-bottom: 1px solid black;\">single item</span>, 'x', to end of list</li>\n",
    "    <li>Use <strong>list.extend([a, b])</strong> to add <span style=\"border-bottom: 1px solid black;\">multiple items</span>, to end of list</li>\n",
    "    <li>Use <strong>list.remove(x)</strong> to remove the first occurence of <span style=\"border-bottom: 1px solid black;\">single list item</span>\n",
    "    <li>Use <strong>list.reverse()</strong> to reverse positioning of list items\n",
    "    <p class=\"note\">NOTE: list.reverse() does NOT arrange in numerical order, simply flips the original order of list items</p></li>\n",
    "</ul>"
   ]
  },
  {
   "cell_type": "code",
   "execution_count": 35,
   "metadata": {
    "tags": []
   },
   "outputs": [
    {
     "output_type": "stream",
     "name": "stdout",
     "text": "[2, 4, 1, 3]\n[2, 4, 1, 3]\n[2, 4, 1, 3, -1]\n[2, 4, 1, 3]\n[3, 1, 4, 2]\n"
    }
   ],
   "source": [
    "print(list)\n",
    "nums = list[:]\n",
    "print(nums)\n",
    "\n",
    "#---------------------------------- using list.append()\n",
    "nums.append(-1)\n",
    "print(nums)\n",
    "\n",
    "#---------------------------------- using list.remove()\n",
    "nums.remove(-1)\n",
    "print(nums)\n",
    "\n",
    "#---------------------------------- using list.reverse()\n",
    "nums.reverse()\n",
    "print(nums)"
   ]
  },
  {
   "cell_type": "markdown",
   "metadata": {},
   "source": [
    "### b) Multi-type Methods\n",
    "\n",
    "<ul class=\"body\">\n",
    "    <li>Use <strong>a.count(x)</strong> to count number of occurrences of 'x', string character(s) or list items of interest\n",
    "    <p class=\"note\">NOTE: don't forget to use \"\" when indicating string componenet</p></li>\n",
    "    <li>Use <strong>a.index(x)</strong> get index of x, <span style=\"border-bottom: 1px solid black;\">first occurence</span> of string character(s) or list items of interest</li>\n",
    "  \n",
    "</ul>"
   ]
  },
  {
   "cell_type": "code",
   "execution_count": 23,
   "metadata": {
    "tags": []
   },
   "outputs": [
    {
     "output_type": "stream",
     "name": "stdout",
     "text": "hi there, my name is samantha\n[2, 4, 1, 3]\n2\n4\n1\n"
    }
   ],
   "source": [
    "print(greeting)\n",
    "print(list)\n",
    "\n",
    "#---------------------------------- using a.count()\n",
    "print(greeting.count(\"am\"))      \n",
    "print(greeting.count(\"a\"))\n",
    "\n",
    "print(list.count(3))\n"
   ]
  },
  {
   "cell_type": "code",
   "execution_count": 25,
   "metadata": {
    "tags": []
   },
   "outputs": [
    {
     "output_type": "stream",
     "name": "stdout",
     "text": "14\n2\n"
    }
   ],
   "source": [
    "\n",
    "#---------------------------------- using a.index()\n",
    "print(greeting.index(\"am\"))\n",
    "\n",
    "print(list.index(1))"
   ]
  }
 ]
}