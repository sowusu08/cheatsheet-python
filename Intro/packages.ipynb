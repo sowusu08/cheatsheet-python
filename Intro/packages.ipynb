{
 "metadata": {
  "language_info": {
   "codemirror_mode": {
    "name": "ipython",
    "version": 3
   },
   "file_extension": ".py",
   "mimetype": "text/x-python",
   "name": "python",
   "nbconvert_exporter": "python",
   "pygments_lexer": "ipython3",
   "version": 3
  },
  "orig_nbformat": 2
 },
 "nbformat": 4,
 "nbformat_minor": 2,
 "cells": [
  {
   "cell_type": "markdown",
   "metadata": {},
   "source": [
    "<style>\n",
    "    .body {\n",
    "        font-weight: 200;\n",
    "        font-size: 14px;\n",
    "        padding-left: 30px; \n",
    "    }\n",
    "</style>\n",
    "\n",
    "# Installing packages\n",
    "<p class=\"body\">In terminal type <code style=\"background-color: #EAEAEA; border: 1px solid #979797; border-radius: 5px; padding: 3px;\">pip3 install <em>package</em></code><br/><br/>\n",
    "Where <em>'package'</em> is the name of the package of interest</p>"
   ]
  },
  {
   "cell_type": "markdown",
   "metadata": {},
   "source": [
    "---\n",
    "# Loading packages to workspace\n",
    "\n",
    "### Loading ENTIRE package\n",
    "<ol>\n",
    "    <li>To make an installed package accessible in workspace: <strong>import <em>package</em></strong></li>\n",
    "    <li>To call on package functions: <strong><em>package</em>.x()</strong> where 'x' is function name</li>\n",
    "</ol><br/>\n",
    "\n",
    "### Loading SPECIFIC functions from package\n",
    "<ol>\n",
    "    <li>To make specific functions accessible in workspace...<br/>\n",
    "    <span style=\"padding-left: 20px;\">a) from package: <strong>from <em>package</em> import x</strong></span><br/>\n",
    "    <span style=\"padding-left: 20px;\">b) from subpackage: <strong>from <em>package.subpackage</em> import x</strong></span>\n",
    "    <p>where 'x' is function name, 'subpackage' is subpackage name</p></li><br/>\n",
    "    <li>To call on targetted functions: <strong>x()</strong></li>\n",
    "</ol>\n",
    "<p style=\"color: red; font-style: italic;\">NOTICE we don't have to use the \"dot notation\" here</p><br/>"
   ]
  },
  {
   "cell_type": "code",
   "execution_count": null,
   "metadata": {},
   "outputs": [],
   "source": [
    "# pip3 install math (in terminal)\n",
    "\n",
    "# import math\n",
    "# r = 12\n",
    "# print( \"circumpherence = \" + str(math.pi * (r ** 2))) )\n",
    "\n",
    "# OR\n",
    "\n",
    "# from math import pi\n",
    "# print( \"circumference = \" + str(pi * (r ** 2)) )"
   ]
  },
  {
   "cell_type": "markdown",
   "metadata": {},
   "source": [
    "### Avoid retyping package name each time you use a function...</p>\n",
    "<ol>\n",
    "    <li>Use <strong>import <em>package</em> as <em>name</em></strong> where '<em>name</em>' is how you will reference the package</li>\n",
    "    <li>Call on functions <strong>name.x</strong> where 'x' is targetted function</li>\n",
    "</ol>"
   ]
  },
  {
   "cell_type": "code",
   "execution_count": null,
   "metadata": {},
   "outputs": [],
   "source": [
    "# pip3 install numpy (in terminal)\n",
    "\n",
    "# import numpy as np\n",
    "# np.array(...)"
   ]
  }
 ]
}