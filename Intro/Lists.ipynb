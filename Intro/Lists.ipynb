{
 "metadata": {
  "language_info": {
   "codemirror_mode": {
    "name": "ipython",
    "version": 3
   },
   "file_extension": ".py",
   "mimetype": "text/x-python",
   "name": "python",
   "nbconvert_exporter": "python",
   "pygments_lexer": "ipython3",
   "version": "3.8.5-final"
  },
  "orig_nbformat": 2,
  "kernelspec": {
   "name": "python38564bit30a800a7aba64ecbafa1ad39a471372d",
   "display_name": "Python 3.8.5 64-bit"
  }
 },
 "nbformat": 4,
 "nbformat_minor": 2,
 "cells": [
  {
   "cell_type": "markdown",
   "metadata": {},
   "source": [
    "<style>\n",
    ".body {\n",
    "        font-weight: 200;\n",
    "        font-size: 14px;\n",
    "        padding-left: 30px;\n",
    "    }\n",
    ".note {\n",
    "        color: #337AFF;\n",
    "        font-size: 12px;\n",
    "        font-style: italic;\n",
    "        padding-left: 20px;\n",
    "    }\n",
    "</style>\n",
    "\n",
    "# Creating Lists in Python\n",
    "<p class=\"body\">List is a data type that can contain values of different types (aka <em>compound data type</em>)<br>\n",
    "Create a list with <strong>x = [...]</strong> where x is the list name</p>"
   ]
  },
  {
   "cell_type": "code",
   "execution_count": null,
   "metadata": {
    "tags": []
   },
   "outputs": [],
   "source": [
    "name = \"Sam\"\n",
    "age = 19\n",
    "born = True\n",
    "\n",
    "my_list = [\"name\", name, \"age\", age, \"U.S. citizen\", born]\n",
    "print(my_list)\n",
    "\n",
    "print(type(my_list))"
   ]
  },
  {
   "cell_type": "markdown",
   "metadata": {},
   "source": [
    "<p class=\"body\">Lists may also contian lists</p>"
   ]
  },
  {
   "cell_type": "code",
   "execution_count": 3,
   "metadata": {
    "tags": []
   },
   "outputs": [
    {
     "output_type": "stream",
     "name": "stdout",
     "text": "[['name', 'Sam'], ['age', 19], ['U.S. citizen', True]]\n"
    }
   ],
   "source": [
    "my_profile = [  [\"name\", name],\n",
    "                [\"age\", age], \n",
    "                [\"U.S. citizen\", born]]\n",
    "\n",
    "print(my_profile)"
   ]
  },
  {
   "cell_type": "markdown",
   "metadata": {},
   "source": [
    "---\n",
    "# Subsetting Lists\n",
    "<p class=\"body\">To select items from a list use <strong>x[#]</strong> where x is the list of interest and # is the index<br>\n",
    "    <span class=\"note\"><span style=\"border-bottom: 1px solid #337AFF;\">In python indexing starts at 0</span> so to select the second list item use list_name[1]</span>\n",
    "</p><br>\n",
    "\n",
    "<p class=\"body\">Negative indexing can be used to select items starting from the end of the list</p><br>\n",
    "\n"
   ]
  },
  {
   "cell_type": "code",
   "execution_count": 1,
   "metadata": {
    "tags": []
   },
   "outputs": [
    {
     "output_type": "stream",
     "name": "stdout",
     "text": [
      "a\nd\n"
     ]
    }
   ],
   "source": [
    "letters = [\"a\", \"b\", \"c\", \"d\"]\n",
    "\n",
    "print(letters[0])     # <= pritns the first letter \n",
    "print(letters[-1])    # <= prints the last letter; note negative indexing starts at 1"
   ]
  },
  {
   "cell_type": "markdown",
   "metadata": {},
   "source": [
    "### Selecting range of list items\n",
    "<p class=\"body\">Use <strong>x[start:end]</strong>, where x is the list of interest, to select a range of list items\n",
    "<br><span class=\"note\">'end' is exclusive</span></p>\n",
    "\n",
    "<ul class=\"body\" style=\"padding-left: 60px;\">\n",
    "    <li>Leaving before ':' blank automaticlally starts selection at first item (index 0)</li>\n",
    "    <li>Leaving after ':' blank automaticlally ends selection at last item (index -1)</li>\n",
    "</ul>"
   ]
  },
  {
   "cell_type": "code",
   "execution_count": 10,
   "metadata": {
    "tags": []
   },
   "outputs": [
    {
     "output_type": "stream",
     "name": "stdout",
     "text": "['b', 'c']\n['a', 'b']\n['c', 'd']\n['a', 'b', 'c', 'd']\n"
    }
   ],
   "source": [
    "print(letters[1:3])     # <= prints the middle 2 letters\n",
    "\n",
    "print(letters[:2])      # <= prints first 2 letters (item 0 and item 1)\n",
    "print(letters[2:])      # <= prints last 2 letters\n",
    "\n",
    "print(letters[:])       # <= prints all letters"
   ]
  },
  {
   "cell_type": "markdown",
   "metadata": {},
   "source": [
    "### Subsetting lists of lists\n",
    "<p class=\"body\">To select items from a list nested inside a list use <strong>x[#_1][#_2]</strong>\n",
    "<ul>\n",
    "    <li>x is the overarching list</li>\n",
    "    <li>#_1 is the index of the nested list</li>\n",
    "    <li>#_2 is the index of the item of interest w/in nested list</li>\n",
    "</ul></p>\n"
   ]
  },
  {
   "cell_type": "code",
   "execution_count": 13,
   "metadata": {
    "tags": []
   },
   "outputs": [
    {
     "output_type": "stream",
     "name": "stdout",
     "text": "[['name', 'Sam'], ['age', 19], ['U.S. citizen', True]]\n19\nTrue\n"
    }
   ],
   "source": [
    "print(my_profile)\n",
    "\n",
    "print(my_profile[1][1])     # <= prints numerical age (second item of second nested list)\n",
    "print(my_profile[-1][1])    # <= prints boolean (second item of last nested list)"
   ]
  },
  {
   "cell_type": "markdown",
   "metadata": {},
   "source": [
    "---\n",
    "# Replace list items\n",
    "<p class=\"body\">Use <strong>x[#] = a</strong> to replace a list item (aka reassign them)\n",
    "<br>To replace multiple items at once use <strong>x[#] = [a, b, c, ...]</strong>\n",
    "<ul>\n",
    "    <li>x is the overarching list</li>\n",
    "    <li># is the index of the item of interest</li>\n",
    "    <li> a, b, c are the replacements</li>\n",
    "</ul></p>"
   ]
  },
  {
   "cell_type": "code",
   "execution_count": 18,
   "metadata": {
    "tags": []
   },
   "outputs": [
    {
     "output_type": "stream",
     "name": "stdout",
     "text": "['name', 'Sam', 'age', 19, 'U.S. citizen', True]\n['name', 'yOuR mOm', 'age', 19, 'U.S. citizen', True]\n['employment', 'student', 'age', 19, 'U.S. citizen', True]\n"
    }
   ],
   "source": [
    "my_list = [\"name\", name, \"age\", age, \"U.S. citizen\", born]\n",
    "print(my_list)\n",
    "\n",
    "my_list[1] = \"yOuR mOm\"     # <= changes a single item\n",
    "print(my_list)\n",
    "\n",
    "# When replacing multiple items must use list\n",
    "my_list[0:2] = [\"employment\", \"student\"]       # <= changes multiple adjacent items\n",
    "print(my_list)"
   ]
  },
  {
   "cell_type": "markdown",
   "metadata": {},
   "source": [
    "---\n",
    "# Adding items to list\n",
    "<p class=\"body\">Use <strong>y = x + a</strong> to add one item to end of list<br>\n",
    "Use <strong>y = x + [a, b, c, ...]</strong> to add multiple items to en of list\n",
    "\n",
    "<ul>\n",
    "    <li>a, b, c are appended list items</li>\n",
    "    <li>x is original list name</li>\n",
    "    <li>y is name given to list w/ new items <em>not the original list name</em>\n",
    "</ul></p>"
   ]
  },
  {
   "cell_type": "code",
   "execution_count": 42,
   "metadata": {
    "tags": []
   },
   "outputs": [
    {
     "output_type": "stream",
     "name": "stdout",
     "text": "['name', 'Sam', 'age', 19, 'U.S. citizen', True]\n['name', 'Sam', 'age', 19, 'U.S. citizen', True, 'education', 'college degree']\n['name', 'Sam', 'age', 19, 'U.S. citizen', True]\n"
    }
   ],
   "source": [
    "my_list = [\"name\", name, \"age\", age, \"U.S. citizen\", born]\n",
    "print(my_list)\n",
    "\n",
    "my_list2 = my_list + [\"education\", \"college degree\"]\n",
    "print(my_list2)"
   ]
  },
  {
   "cell_type": "markdown",
   "metadata": {},
   "source": [
    "---\n",
    "# Deleting list items\n",
    "<p class=\"body\">Remove subsetted list item(s) with <strong>del(x[#])</strong>\n",
    "\n",
    "<ul>\n",
    "    <li>x is list name</li>\n",
    "    <li># is index of item(s) to be deleted</li>\n",
    "</ul>\n",
    "</p>"
   ]
  },
  {
   "cell_type": "code",
   "execution_count": 37,
   "metadata": {
    "tags": []
   },
   "outputs": [
    {
     "output_type": "stream",
     "name": "stdout",
     "text": "[1, 4]\n"
    }
   ],
   "source": [
    "nums = [1, 2, 3, 4]\n",
    "\n",
    "del(nums[-3:-1])        #<= deletes second and third items\n",
    "print(nums)\n"
   ]
  },
  {
   "cell_type": "markdown",
   "metadata": {},
   "source": [
    "---\n",
    "# Copying lists\n",
    "<p class=\"body\">Use <strong>y = list(x)</strong> or <strong>y = x[:]</strong> to copy a list</p>\n",
    "\n",
    "<p class=\"body\">Must explicitly copy list; CAN NOT USE y = x<br/>\n",
    "<span class=\"note\">this would assign two lists the same href; aka changing one list will change the other</span>\n",
    "\n",
    "<ul>\n",
    "    <li>x is name of list being copied</li>\n",
    "    <li>y is the new list name</li>\n",
    "</ul>\n",
    "</p>"
   ]
  },
  {
   "cell_type": "code",
   "execution_count": 38,
   "metadata": {
    "tags": []
   },
   "outputs": [
    {
     "output_type": "stream",
     "name": "stdout",
     "text": "['a', 'b', 'c', 'd']\n['a', 'b', 'd']\n['a']\n['a', 'b', 'c', 'd']\n"
    }
   ],
   "source": [
    "print(letters)\n",
    "\n",
    "#Use ';' to place commands on the same line\n",
    "letters_cut1 = list(letters); del(letters_cut1[-2])    # <= deletes second-to-last item\n",
    "print(letters_cut1)\n",
    "\n",
    "letters_cut2 = list(letters); del(letters_cut2[1:])     # <= deletes all items except first one\n",
    "print(letters_cut2)\n",
    "\n",
    "print(letters)          # <= original list maintained"
   ]
  }
 ]
}